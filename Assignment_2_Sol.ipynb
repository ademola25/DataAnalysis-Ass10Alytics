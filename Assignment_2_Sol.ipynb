{
 "cells": [
  {
   "cell_type": "code",
   "execution_count": 1,
   "id": "a30808cf",
   "metadata": {},
   "outputs": [],
   "source": [
    "# Import all necessary libraries\n",
    "import numpy as np\n",
    "import pandas as pd\n",
    "import matplotlib.pyplot as plt\n",
    "import seaborn as sns\n",
    "\n",
    "%matplotlib inline"
   ]
  },
  {
   "cell_type": "code",
   "execution_count": 2,
   "id": "63b8b301",
   "metadata": {},
   "outputs": [],
   "source": [
    "# Load the dataset (10Alytics Data)\n",
    "df = pd.read_csv(\"C:\\\\Users\\\\Efemena Ikpro\\\\OneDrive\\\\10alytics\\\\Data Science using Python\\\\Data Science using Python\\\\10Alytics Data.csv\")"
   ]
  },
  {
   "cell_type": "markdown",
   "id": "1291528c",
   "metadata": {},
   "source": [
    "### Exploratory Data Analysis – EDA (Give a brief write up on everything below)\n",
    "\n",
    "- Print the top 5 rows\n",
    "- Print the bottom 5 rows\n",
    "- Provide the full information of the Dataset\n",
    "- Provide statistical information on the dataset"
   ]
  },
  {
   "cell_type": "code",
   "execution_count": 3,
   "id": "dafc808a",
   "metadata": {},
   "outputs": [
    {
     "data": {
      "text/html": [
       "<div>\n",
       "<style scoped>\n",
       "    .dataframe tbody tr th:only-of-type {\n",
       "        vertical-align: middle;\n",
       "    }\n",
       "\n",
       "    .dataframe tbody tr th {\n",
       "        vertical-align: top;\n",
       "    }\n",
       "\n",
       "    .dataframe thead th {\n",
       "        text-align: right;\n",
       "    }\n",
       "</style>\n",
       "<table border=\"1\" class=\"dataframe\">\n",
       "  <thead>\n",
       "    <tr style=\"text-align: right;\">\n",
       "      <th></th>\n",
       "      <th>Date</th>\n",
       "      <th>Customer</th>\n",
       "      <th>Sales Person</th>\n",
       "      <th>Customer_Age</th>\n",
       "      <th>Customer_Gender</th>\n",
       "      <th>State</th>\n",
       "      <th>Product_Category</th>\n",
       "      <th>Sub_Category</th>\n",
       "      <th>Payment Option</th>\n",
       "      <th>Quantity</th>\n",
       "      <th>Unit_Cost</th>\n",
       "      <th>Unit_Price</th>\n",
       "    </tr>\n",
       "  </thead>\n",
       "  <tbody>\n",
       "    <tr>\n",
       "      <th>0</th>\n",
       "      <td>19-Feb-16</td>\n",
       "      <td>High</td>\n",
       "      <td>Segun</td>\n",
       "      <td>29</td>\n",
       "      <td>F</td>\n",
       "      <td>Abia</td>\n",
       "      <td>Accessories</td>\n",
       "      <td>Keyboard</td>\n",
       "      <td>Online</td>\n",
       "      <td>1.0</td>\n",
       "      <td>80.00</td>\n",
       "      <td>109.00</td>\n",
       "    </tr>\n",
       "    <tr>\n",
       "      <th>1</th>\n",
       "      <td>20-Feb-16</td>\n",
       "      <td>High</td>\n",
       "      <td>Segun</td>\n",
       "      <td>29</td>\n",
       "      <td>F</td>\n",
       "      <td>Abia</td>\n",
       "      <td>Clothing</td>\n",
       "      <td>Polo shirts</td>\n",
       "      <td>Online</td>\n",
       "      <td>2.0</td>\n",
       "      <td>24.50</td>\n",
       "      <td>28.50</td>\n",
       "    </tr>\n",
       "    <tr>\n",
       "      <th>2</th>\n",
       "      <td>27-Feb-16</td>\n",
       "      <td>High</td>\n",
       "      <td>Segun</td>\n",
       "      <td>29</td>\n",
       "      <td>F</td>\n",
       "      <td>Abia</td>\n",
       "      <td>Accessories</td>\n",
       "      <td>Keyboard</td>\n",
       "      <td>Online</td>\n",
       "      <td>3.0</td>\n",
       "      <td>3.67</td>\n",
       "      <td>5.00</td>\n",
       "    </tr>\n",
       "    <tr>\n",
       "      <th>3</th>\n",
       "      <td>12-Mar-16</td>\n",
       "      <td>High</td>\n",
       "      <td>Segun</td>\n",
       "      <td>29</td>\n",
       "      <td>F</td>\n",
       "      <td>Abia</td>\n",
       "      <td>Accessories</td>\n",
       "      <td>Keyboard</td>\n",
       "      <td>Online</td>\n",
       "      <td>2.0</td>\n",
       "      <td>87.50</td>\n",
       "      <td>116.50</td>\n",
       "    </tr>\n",
       "    <tr>\n",
       "      <th>4</th>\n",
       "      <td>12-Mar-16</td>\n",
       "      <td>High</td>\n",
       "      <td>Segun</td>\n",
       "      <td>29</td>\n",
       "      <td>F</td>\n",
       "      <td>Abia</td>\n",
       "      <td>Accessories</td>\n",
       "      <td>Keyboard</td>\n",
       "      <td>Online</td>\n",
       "      <td>3.0</td>\n",
       "      <td>35.00</td>\n",
       "      <td>41.67</td>\n",
       "    </tr>\n",
       "  </tbody>\n",
       "</table>\n",
       "</div>"
      ],
      "text/plain": [
       "        Date Customer Sales Person  Customer_Age Customer_Gender State  \\\n",
       "0  19-Feb-16     High        Segun            29               F  Abia   \n",
       "1  20-Feb-16     High        Segun            29               F  Abia   \n",
       "2  27-Feb-16     High        Segun            29               F  Abia   \n",
       "3  12-Mar-16     High        Segun            29               F  Abia   \n",
       "4  12-Mar-16     High        Segun            29               F  Abia   \n",
       "\n",
       "  Product_Category Sub_Category Payment Option  Quantity  Unit_Cost  \\\n",
       "0      Accessories     Keyboard         Online       1.0      80.00   \n",
       "1         Clothing  Polo shirts         Online       2.0      24.50   \n",
       "2      Accessories     Keyboard         Online       3.0       3.67   \n",
       "3      Accessories     Keyboard         Online       2.0      87.50   \n",
       "4      Accessories     Keyboard         Online       3.0      35.00   \n",
       "\n",
       "   Unit_Price  \n",
       "0      109.00  \n",
       "1       28.50  \n",
       "2        5.00  \n",
       "3      116.50  \n",
       "4       41.67  "
      ]
     },
     "execution_count": 3,
     "metadata": {},
     "output_type": "execute_result"
    }
   ],
   "source": [
    "# Print the top 5 rows\n",
    "df.head()"
   ]
  },
  {
   "cell_type": "code",
   "execution_count": 4,
   "id": "e9c401a9",
   "metadata": {},
   "outputs": [
    {
     "data": {
      "text/html": [
       "<div>\n",
       "<style scoped>\n",
       "    .dataframe tbody tr th:only-of-type {\n",
       "        vertical-align: middle;\n",
       "    }\n",
       "\n",
       "    .dataframe tbody tr th {\n",
       "        vertical-align: top;\n",
       "    }\n",
       "\n",
       "    .dataframe thead th {\n",
       "        text-align: right;\n",
       "    }\n",
       "</style>\n",
       "<table border=\"1\" class=\"dataframe\">\n",
       "  <thead>\n",
       "    <tr style=\"text-align: right;\">\n",
       "      <th></th>\n",
       "      <th>Date</th>\n",
       "      <th>Customer</th>\n",
       "      <th>Sales Person</th>\n",
       "      <th>Customer_Age</th>\n",
       "      <th>Customer_Gender</th>\n",
       "      <th>State</th>\n",
       "      <th>Product_Category</th>\n",
       "      <th>Sub_Category</th>\n",
       "      <th>Payment Option</th>\n",
       "      <th>Quantity</th>\n",
       "      <th>Unit_Cost</th>\n",
       "      <th>Unit_Price</th>\n",
       "    </tr>\n",
       "  </thead>\n",
       "  <tbody>\n",
       "    <tr>\n",
       "      <th>34862</th>\n",
       "      <td>7-Feb-16</td>\n",
       "      <td>High</td>\n",
       "      <td>Kenny</td>\n",
       "      <td>38</td>\n",
       "      <td>M</td>\n",
       "      <td>Ebonyi</td>\n",
       "      <td>Phones</td>\n",
       "      <td>IPhone</td>\n",
       "      <td>Online</td>\n",
       "      <td>2.0</td>\n",
       "      <td>1160.0</td>\n",
       "      <td>985.50</td>\n",
       "    </tr>\n",
       "    <tr>\n",
       "      <th>34863</th>\n",
       "      <td>13-Mar-15</td>\n",
       "      <td>High</td>\n",
       "      <td>Kenny</td>\n",
       "      <td>38</td>\n",
       "      <td>M</td>\n",
       "      <td>Ebonyi</td>\n",
       "      <td>Phones</td>\n",
       "      <td>IPhone</td>\n",
       "      <td>Online</td>\n",
       "      <td>1.0</td>\n",
       "      <td>2049.0</td>\n",
       "      <td>1583.00</td>\n",
       "    </tr>\n",
       "    <tr>\n",
       "      <th>34864</th>\n",
       "      <td>5-Apr-15</td>\n",
       "      <td>High</td>\n",
       "      <td>Kenny</td>\n",
       "      <td>38</td>\n",
       "      <td>M</td>\n",
       "      <td>Ebonyi</td>\n",
       "      <td>Phones</td>\n",
       "      <td>IPhone</td>\n",
       "      <td>Online</td>\n",
       "      <td>3.0</td>\n",
       "      <td>683.0</td>\n",
       "      <td>560.67</td>\n",
       "    </tr>\n",
       "    <tr>\n",
       "      <th>34865</th>\n",
       "      <td>30-Aug-15</td>\n",
       "      <td>High</td>\n",
       "      <td>Kenny</td>\n",
       "      <td>38</td>\n",
       "      <td>M</td>\n",
       "      <td>Ebonyi</td>\n",
       "      <td>Phones</td>\n",
       "      <td>IPhone</td>\n",
       "      <td>Online</td>\n",
       "      <td>1.0</td>\n",
       "      <td>2320.0</td>\n",
       "      <td>1568.00</td>\n",
       "    </tr>\n",
       "    <tr>\n",
       "      <th>34866</th>\n",
       "      <td>NaN</td>\n",
       "      <td>NaN</td>\n",
       "      <td>NaN</td>\n",
       "      <td>38</td>\n",
       "      <td>NaN</td>\n",
       "      <td>NaN</td>\n",
       "      <td>NaN</td>\n",
       "      <td>NaN</td>\n",
       "      <td>NaN</td>\n",
       "      <td>NaN</td>\n",
       "      <td>NaN</td>\n",
       "      <td>NaN</td>\n",
       "    </tr>\n",
       "  </tbody>\n",
       "</table>\n",
       "</div>"
      ],
      "text/plain": [
       "            Date Customer Sales Person  Customer_Age Customer_Gender   State  \\\n",
       "34862   7-Feb-16     High        Kenny            38               M  Ebonyi   \n",
       "34863  13-Mar-15     High        Kenny            38               M  Ebonyi   \n",
       "34864   5-Apr-15     High        Kenny            38               M  Ebonyi   \n",
       "34865  30-Aug-15     High        Kenny            38               M  Ebonyi   \n",
       "34866        NaN      NaN          NaN            38             NaN     NaN   \n",
       "\n",
       "      Product_Category Sub_Category Payment Option  Quantity  Unit_Cost  \\\n",
       "34862           Phones       IPhone         Online       2.0     1160.0   \n",
       "34863           Phones       IPhone         Online       1.0     2049.0   \n",
       "34864           Phones       IPhone         Online       3.0      683.0   \n",
       "34865           Phones       IPhone         Online       1.0     2320.0   \n",
       "34866              NaN          NaN            NaN       NaN        NaN   \n",
       "\n",
       "       Unit_Price  \n",
       "34862      985.50  \n",
       "34863     1583.00  \n",
       "34864      560.67  \n",
       "34865     1568.00  \n",
       "34866         NaN  "
      ]
     },
     "execution_count": 4,
     "metadata": {},
     "output_type": "execute_result"
    }
   ],
   "source": [
    "# Print the bottom 5 rows\n",
    "df.tail()"
   ]
  },
  {
   "cell_type": "code",
   "execution_count": 5,
   "id": "6cb67bff",
   "metadata": {},
   "outputs": [
    {
     "name": "stdout",
     "output_type": "stream",
     "text": [
      "<class 'pandas.core.frame.DataFrame'>\n",
      "RangeIndex: 34867 entries, 0 to 34866\n",
      "Data columns (total 12 columns):\n",
      " #   Column            Non-Null Count  Dtype  \n",
      "---  ------            --------------  -----  \n",
      " 0   Date              34866 non-null  object \n",
      " 1   Customer          34866 non-null  object \n",
      " 2   Sales Person      34866 non-null  object \n",
      " 3   Customer_Age      34867 non-null  int64  \n",
      " 4   Customer_Gender   34866 non-null  object \n",
      " 5   State             34866 non-null  object \n",
      " 6   Product_Category  34866 non-null  object \n",
      " 7   Sub_Category      34866 non-null  object \n",
      " 8   Payment Option    34866 non-null  object \n",
      " 9   Quantity          34866 non-null  float64\n",
      " 10  Unit_Cost         34866 non-null  float64\n",
      " 11  Unit_Price        34866 non-null  float64\n",
      "dtypes: float64(3), int64(1), object(8)\n",
      "memory usage: 3.2+ MB\n"
     ]
    }
   ],
   "source": [
    "# Provide the full information of the Dataset\n",
    "df.info()"
   ]
  },
  {
   "cell_type": "code",
   "execution_count": 6,
   "id": "7aaf712d",
   "metadata": {},
   "outputs": [
    {
     "data": {
      "text/html": [
       "<div>\n",
       "<style scoped>\n",
       "    .dataframe tbody tr th:only-of-type {\n",
       "        vertical-align: middle;\n",
       "    }\n",
       "\n",
       "    .dataframe tbody tr th {\n",
       "        vertical-align: top;\n",
       "    }\n",
       "\n",
       "    .dataframe thead th {\n",
       "        text-align: right;\n",
       "    }\n",
       "</style>\n",
       "<table border=\"1\" class=\"dataframe\">\n",
       "  <thead>\n",
       "    <tr style=\"text-align: right;\">\n",
       "      <th></th>\n",
       "      <th>Customer_Age</th>\n",
       "      <th>Quantity</th>\n",
       "      <th>Unit_Cost</th>\n",
       "      <th>Unit_Price</th>\n",
       "    </tr>\n",
       "  </thead>\n",
       "  <tbody>\n",
       "    <tr>\n",
       "      <th>count</th>\n",
       "      <td>34867.000000</td>\n",
       "      <td>34866.000000</td>\n",
       "      <td>34866.000000</td>\n",
       "      <td>34866.000000</td>\n",
       "    </tr>\n",
       "    <tr>\n",
       "      <th>mean</th>\n",
       "      <td>36.382683</td>\n",
       "      <td>2.002524</td>\n",
       "      <td>349.880567</td>\n",
       "      <td>389.232473</td>\n",
       "    </tr>\n",
       "    <tr>\n",
       "      <th>std</th>\n",
       "      <td>11.112813</td>\n",
       "      <td>0.813936</td>\n",
       "      <td>490.015846</td>\n",
       "      <td>525.319097</td>\n",
       "    </tr>\n",
       "    <tr>\n",
       "      <th>min</th>\n",
       "      <td>17.000000</td>\n",
       "      <td>1.000000</td>\n",
       "      <td>0.670000</td>\n",
       "      <td>0.670000</td>\n",
       "    </tr>\n",
       "    <tr>\n",
       "      <th>25%</th>\n",
       "      <td>28.000000</td>\n",
       "      <td>1.000000</td>\n",
       "      <td>45.000000</td>\n",
       "      <td>53.670000</td>\n",
       "    </tr>\n",
       "    <tr>\n",
       "      <th>50%</th>\n",
       "      <td>35.000000</td>\n",
       "      <td>2.000000</td>\n",
       "      <td>150.000000</td>\n",
       "      <td>179.000000</td>\n",
       "    </tr>\n",
       "    <tr>\n",
       "      <th>75%</th>\n",
       "      <td>44.000000</td>\n",
       "      <td>3.000000</td>\n",
       "      <td>455.000000</td>\n",
       "      <td>521.000000</td>\n",
       "    </tr>\n",
       "    <tr>\n",
       "      <th>max</th>\n",
       "      <td>87.000000</td>\n",
       "      <td>3.000000</td>\n",
       "      <td>3240.000000</td>\n",
       "      <td>5082.000000</td>\n",
       "    </tr>\n",
       "  </tbody>\n",
       "</table>\n",
       "</div>"
      ],
      "text/plain": [
       "       Customer_Age      Quantity     Unit_Cost    Unit_Price\n",
       "count  34867.000000  34866.000000  34866.000000  34866.000000\n",
       "mean      36.382683      2.002524    349.880567    389.232473\n",
       "std       11.112813      0.813936    490.015846    525.319097\n",
       "min       17.000000      1.000000      0.670000      0.670000\n",
       "25%       28.000000      1.000000     45.000000     53.670000\n",
       "50%       35.000000      2.000000    150.000000    179.000000\n",
       "75%       44.000000      3.000000    455.000000    521.000000\n",
       "max       87.000000      3.000000   3240.000000   5082.000000"
      ]
     },
     "execution_count": 6,
     "metadata": {},
     "output_type": "execute_result"
    }
   ],
   "source": [
    "# Provide statistical information on the dataset\n",
    "df.describe()"
   ]
  },
  {
   "cell_type": "code",
   "execution_count": 7,
   "id": "6aebbf65",
   "metadata": {},
   "outputs": [],
   "source": [
    "def age(x):\n",
    "    if x <= 19:\n",
    "        return \"Teenager\"\n",
    "    elif x <= 30:\n",
    "        return\"Youth\"\n",
    "    elif x <= 45:\n",
    "        return \"Adult\"\n",
    "    elif x <= 65:\n",
    "        return \"Old Adult\"\n",
    "    else:\n",
    "        return \"Elderly\"\n",
    "        "
   ]
  },
  {
   "cell_type": "code",
   "execution_count": 8,
   "id": "381d974a",
   "metadata": {},
   "outputs": [
    {
     "data": {
      "text/html": [
       "<div>\n",
       "<style scoped>\n",
       "    .dataframe tbody tr th:only-of-type {\n",
       "        vertical-align: middle;\n",
       "    }\n",
       "\n",
       "    .dataframe tbody tr th {\n",
       "        vertical-align: top;\n",
       "    }\n",
       "\n",
       "    .dataframe thead th {\n",
       "        text-align: right;\n",
       "    }\n",
       "</style>\n",
       "<table border=\"1\" class=\"dataframe\">\n",
       "  <thead>\n",
       "    <tr style=\"text-align: right;\">\n",
       "      <th></th>\n",
       "      <th>Date</th>\n",
       "      <th>Customer</th>\n",
       "      <th>Sales Person</th>\n",
       "      <th>Customer_Age</th>\n",
       "      <th>Customer_Gender</th>\n",
       "      <th>State</th>\n",
       "      <th>Product_Category</th>\n",
       "      <th>Sub_Category</th>\n",
       "      <th>Payment Option</th>\n",
       "      <th>Quantity</th>\n",
       "      <th>Unit_Cost</th>\n",
       "      <th>Unit_Price</th>\n",
       "      <th>Age_Bracket</th>\n",
       "    </tr>\n",
       "  </thead>\n",
       "  <tbody>\n",
       "    <tr>\n",
       "      <th>0</th>\n",
       "      <td>19-Feb-16</td>\n",
       "      <td>High</td>\n",
       "      <td>Segun</td>\n",
       "      <td>29</td>\n",
       "      <td>F</td>\n",
       "      <td>Abia</td>\n",
       "      <td>Accessories</td>\n",
       "      <td>Keyboard</td>\n",
       "      <td>Online</td>\n",
       "      <td>1.0</td>\n",
       "      <td>80.00</td>\n",
       "      <td>109.00</td>\n",
       "      <td>Youth</td>\n",
       "    </tr>\n",
       "    <tr>\n",
       "      <th>1</th>\n",
       "      <td>20-Feb-16</td>\n",
       "      <td>High</td>\n",
       "      <td>Segun</td>\n",
       "      <td>29</td>\n",
       "      <td>F</td>\n",
       "      <td>Abia</td>\n",
       "      <td>Clothing</td>\n",
       "      <td>Polo shirts</td>\n",
       "      <td>Online</td>\n",
       "      <td>2.0</td>\n",
       "      <td>24.50</td>\n",
       "      <td>28.50</td>\n",
       "      <td>Youth</td>\n",
       "    </tr>\n",
       "    <tr>\n",
       "      <th>2</th>\n",
       "      <td>27-Feb-16</td>\n",
       "      <td>High</td>\n",
       "      <td>Segun</td>\n",
       "      <td>29</td>\n",
       "      <td>F</td>\n",
       "      <td>Abia</td>\n",
       "      <td>Accessories</td>\n",
       "      <td>Keyboard</td>\n",
       "      <td>Online</td>\n",
       "      <td>3.0</td>\n",
       "      <td>3.67</td>\n",
       "      <td>5.00</td>\n",
       "      <td>Youth</td>\n",
       "    </tr>\n",
       "    <tr>\n",
       "      <th>3</th>\n",
       "      <td>12-Mar-16</td>\n",
       "      <td>High</td>\n",
       "      <td>Segun</td>\n",
       "      <td>29</td>\n",
       "      <td>F</td>\n",
       "      <td>Abia</td>\n",
       "      <td>Accessories</td>\n",
       "      <td>Keyboard</td>\n",
       "      <td>Online</td>\n",
       "      <td>2.0</td>\n",
       "      <td>87.50</td>\n",
       "      <td>116.50</td>\n",
       "      <td>Youth</td>\n",
       "    </tr>\n",
       "    <tr>\n",
       "      <th>4</th>\n",
       "      <td>12-Mar-16</td>\n",
       "      <td>High</td>\n",
       "      <td>Segun</td>\n",
       "      <td>29</td>\n",
       "      <td>F</td>\n",
       "      <td>Abia</td>\n",
       "      <td>Accessories</td>\n",
       "      <td>Keyboard</td>\n",
       "      <td>Online</td>\n",
       "      <td>3.0</td>\n",
       "      <td>35.00</td>\n",
       "      <td>41.67</td>\n",
       "      <td>Youth</td>\n",
       "    </tr>\n",
       "  </tbody>\n",
       "</table>\n",
       "</div>"
      ],
      "text/plain": [
       "        Date Customer Sales Person  Customer_Age Customer_Gender State  \\\n",
       "0  19-Feb-16     High        Segun            29               F  Abia   \n",
       "1  20-Feb-16     High        Segun            29               F  Abia   \n",
       "2  27-Feb-16     High        Segun            29               F  Abia   \n",
       "3  12-Mar-16     High        Segun            29               F  Abia   \n",
       "4  12-Mar-16     High        Segun            29               F  Abia   \n",
       "\n",
       "  Product_Category Sub_Category Payment Option  Quantity  Unit_Cost  \\\n",
       "0      Accessories     Keyboard         Online       1.0      80.00   \n",
       "1         Clothing  Polo shirts         Online       2.0      24.50   \n",
       "2      Accessories     Keyboard         Online       3.0       3.67   \n",
       "3      Accessories     Keyboard         Online       2.0      87.50   \n",
       "4      Accessories     Keyboard         Online       3.0      35.00   \n",
       "\n",
       "   Unit_Price Age_Bracket  \n",
       "0      109.00       Youth  \n",
       "1       28.50       Youth  \n",
       "2        5.00       Youth  \n",
       "3      116.50       Youth  \n",
       "4       41.67       Youth  "
      ]
     },
     "execution_count": 8,
     "metadata": {},
     "output_type": "execute_result"
    }
   ],
   "source": [
    "df[\"Age_Bracket\"] = df[\"Customer_Age\"].apply(age)\n",
    "df.head()"
   ]
  },
  {
   "cell_type": "code",
   "execution_count": 9,
   "id": "d5f1f44c",
   "metadata": {},
   "outputs": [
    {
     "data": {
      "text/html": [
       "<div>\n",
       "<style scoped>\n",
       "    .dataframe tbody tr th:only-of-type {\n",
       "        vertical-align: middle;\n",
       "    }\n",
       "\n",
       "    .dataframe tbody tr th {\n",
       "        vertical-align: top;\n",
       "    }\n",
       "\n",
       "    .dataframe thead th {\n",
       "        text-align: right;\n",
       "    }\n",
       "</style>\n",
       "<table border=\"1\" class=\"dataframe\">\n",
       "  <thead>\n",
       "    <tr style=\"text-align: right;\">\n",
       "      <th></th>\n",
       "      <th>Date</th>\n",
       "      <th>Customer</th>\n",
       "      <th>Sales Person</th>\n",
       "      <th>Customer_Age</th>\n",
       "      <th>Customer_Gender</th>\n",
       "      <th>State</th>\n",
       "      <th>Product_Category</th>\n",
       "      <th>Sub_Category</th>\n",
       "      <th>Payment Option</th>\n",
       "      <th>Quantity</th>\n",
       "      <th>Unit_Cost</th>\n",
       "      <th>Unit_Price</th>\n",
       "      <th>Age_Bracket</th>\n",
       "      <th>total_cost</th>\n",
       "      <th>total_revenue</th>\n",
       "      <th>profit_loss</th>\n",
       "    </tr>\n",
       "  </thead>\n",
       "  <tbody>\n",
       "    <tr>\n",
       "      <th>0</th>\n",
       "      <td>19-Feb-16</td>\n",
       "      <td>High</td>\n",
       "      <td>Segun</td>\n",
       "      <td>29</td>\n",
       "      <td>F</td>\n",
       "      <td>Abia</td>\n",
       "      <td>Accessories</td>\n",
       "      <td>Keyboard</td>\n",
       "      <td>Online</td>\n",
       "      <td>1.0</td>\n",
       "      <td>80.00</td>\n",
       "      <td>109.00</td>\n",
       "      <td>Youth</td>\n",
       "      <td>80.00</td>\n",
       "      <td>109.00</td>\n",
       "      <td>29.00</td>\n",
       "    </tr>\n",
       "    <tr>\n",
       "      <th>1</th>\n",
       "      <td>20-Feb-16</td>\n",
       "      <td>High</td>\n",
       "      <td>Segun</td>\n",
       "      <td>29</td>\n",
       "      <td>F</td>\n",
       "      <td>Abia</td>\n",
       "      <td>Clothing</td>\n",
       "      <td>Polo shirts</td>\n",
       "      <td>Online</td>\n",
       "      <td>2.0</td>\n",
       "      <td>24.50</td>\n",
       "      <td>28.50</td>\n",
       "      <td>Youth</td>\n",
       "      <td>49.00</td>\n",
       "      <td>57.00</td>\n",
       "      <td>8.00</td>\n",
       "    </tr>\n",
       "    <tr>\n",
       "      <th>2</th>\n",
       "      <td>27-Feb-16</td>\n",
       "      <td>High</td>\n",
       "      <td>Segun</td>\n",
       "      <td>29</td>\n",
       "      <td>F</td>\n",
       "      <td>Abia</td>\n",
       "      <td>Accessories</td>\n",
       "      <td>Keyboard</td>\n",
       "      <td>Online</td>\n",
       "      <td>3.0</td>\n",
       "      <td>3.67</td>\n",
       "      <td>5.00</td>\n",
       "      <td>Youth</td>\n",
       "      <td>11.01</td>\n",
       "      <td>15.00</td>\n",
       "      <td>3.99</td>\n",
       "    </tr>\n",
       "    <tr>\n",
       "      <th>3</th>\n",
       "      <td>12-Mar-16</td>\n",
       "      <td>High</td>\n",
       "      <td>Segun</td>\n",
       "      <td>29</td>\n",
       "      <td>F</td>\n",
       "      <td>Abia</td>\n",
       "      <td>Accessories</td>\n",
       "      <td>Keyboard</td>\n",
       "      <td>Online</td>\n",
       "      <td>2.0</td>\n",
       "      <td>87.50</td>\n",
       "      <td>116.50</td>\n",
       "      <td>Youth</td>\n",
       "      <td>175.00</td>\n",
       "      <td>233.00</td>\n",
       "      <td>58.00</td>\n",
       "    </tr>\n",
       "    <tr>\n",
       "      <th>4</th>\n",
       "      <td>12-Mar-16</td>\n",
       "      <td>High</td>\n",
       "      <td>Segun</td>\n",
       "      <td>29</td>\n",
       "      <td>F</td>\n",
       "      <td>Abia</td>\n",
       "      <td>Accessories</td>\n",
       "      <td>Keyboard</td>\n",
       "      <td>Online</td>\n",
       "      <td>3.0</td>\n",
       "      <td>35.00</td>\n",
       "      <td>41.67</td>\n",
       "      <td>Youth</td>\n",
       "      <td>105.00</td>\n",
       "      <td>125.01</td>\n",
       "      <td>20.01</td>\n",
       "    </tr>\n",
       "  </tbody>\n",
       "</table>\n",
       "</div>"
      ],
      "text/plain": [
       "        Date Customer Sales Person  Customer_Age Customer_Gender State  \\\n",
       "0  19-Feb-16     High        Segun            29               F  Abia   \n",
       "1  20-Feb-16     High        Segun            29               F  Abia   \n",
       "2  27-Feb-16     High        Segun            29               F  Abia   \n",
       "3  12-Mar-16     High        Segun            29               F  Abia   \n",
       "4  12-Mar-16     High        Segun            29               F  Abia   \n",
       "\n",
       "  Product_Category Sub_Category Payment Option  Quantity  Unit_Cost  \\\n",
       "0      Accessories     Keyboard         Online       1.0      80.00   \n",
       "1         Clothing  Polo shirts         Online       2.0      24.50   \n",
       "2      Accessories     Keyboard         Online       3.0       3.67   \n",
       "3      Accessories     Keyboard         Online       2.0      87.50   \n",
       "4      Accessories     Keyboard         Online       3.0      35.00   \n",
       "\n",
       "   Unit_Price Age_Bracket  total_cost  total_revenue  profit_loss  \n",
       "0      109.00       Youth       80.00         109.00        29.00  \n",
       "1       28.50       Youth       49.00          57.00         8.00  \n",
       "2        5.00       Youth       11.01          15.00         3.99  \n",
       "3      116.50       Youth      175.00         233.00        58.00  \n",
       "4       41.67       Youth      105.00         125.01        20.01  "
      ]
     },
     "execution_count": 9,
     "metadata": {},
     "output_type": "execute_result"
    }
   ],
   "source": [
    "# Create a new column for the following:\n",
    "# Total Cost = Quantity * Unit_cost\n",
    "# Total Revenue = Quantity * Unit_Price\n",
    "# Profit/Loss = Total Revenue – Total Cost\n",
    "\n",
    "df[\"total_cost\"] = df[\"Quantity\"] * df[\"Unit_Cost\"]\n",
    "df[\"total_revenue\"] = df[\"Quantity\"] * df[\"Unit_Price\"]\n",
    "df[\"profit_loss\"] = df[\"total_revenue\"] - df[\"total_cost\"]\n",
    "\n",
    "df.head()"
   ]
  },
  {
   "cell_type": "code",
   "execution_count": 10,
   "id": "4b6cd7b9",
   "metadata": {},
   "outputs": [],
   "source": [
    "# Create a new column and categorize Profit/Loss\n",
    "# Less than 0 = Loss\n",
    "# Greater than 0 = Profit\n",
    "\n",
    "def profit_loss(x):\n",
    "    if x < 0:\n",
    "        return \"Loss\"\n",
    "    else:\n",
    "        return \"Profit\"\n"
   ]
  },
  {
   "cell_type": "code",
   "execution_count": 11,
   "id": "19f25168",
   "metadata": {},
   "outputs": [
    {
     "data": {
      "text/html": [
       "<div>\n",
       "<style scoped>\n",
       "    .dataframe tbody tr th:only-of-type {\n",
       "        vertical-align: middle;\n",
       "    }\n",
       "\n",
       "    .dataframe tbody tr th {\n",
       "        vertical-align: top;\n",
       "    }\n",
       "\n",
       "    .dataframe thead th {\n",
       "        text-align: right;\n",
       "    }\n",
       "</style>\n",
       "<table border=\"1\" class=\"dataframe\">\n",
       "  <thead>\n",
       "    <tr style=\"text-align: right;\">\n",
       "      <th></th>\n",
       "      <th>Date</th>\n",
       "      <th>Customer</th>\n",
       "      <th>Sales Person</th>\n",
       "      <th>Customer_Age</th>\n",
       "      <th>Customer_Gender</th>\n",
       "      <th>State</th>\n",
       "      <th>Product_Category</th>\n",
       "      <th>Sub_Category</th>\n",
       "      <th>Payment Option</th>\n",
       "      <th>Quantity</th>\n",
       "      <th>Unit_Cost</th>\n",
       "      <th>Unit_Price</th>\n",
       "      <th>Age_Bracket</th>\n",
       "      <th>total_cost</th>\n",
       "      <th>total_revenue</th>\n",
       "      <th>profit_loss</th>\n",
       "      <th>p/l Category</th>\n",
       "    </tr>\n",
       "  </thead>\n",
       "  <tbody>\n",
       "    <tr>\n",
       "      <th>0</th>\n",
       "      <td>19-Feb-16</td>\n",
       "      <td>High</td>\n",
       "      <td>Segun</td>\n",
       "      <td>29</td>\n",
       "      <td>F</td>\n",
       "      <td>Abia</td>\n",
       "      <td>Accessories</td>\n",
       "      <td>Keyboard</td>\n",
       "      <td>Online</td>\n",
       "      <td>1.0</td>\n",
       "      <td>80.00</td>\n",
       "      <td>109.00</td>\n",
       "      <td>Youth</td>\n",
       "      <td>80.00</td>\n",
       "      <td>109.00</td>\n",
       "      <td>29.00</td>\n",
       "      <td>Profit</td>\n",
       "    </tr>\n",
       "    <tr>\n",
       "      <th>1</th>\n",
       "      <td>20-Feb-16</td>\n",
       "      <td>High</td>\n",
       "      <td>Segun</td>\n",
       "      <td>29</td>\n",
       "      <td>F</td>\n",
       "      <td>Abia</td>\n",
       "      <td>Clothing</td>\n",
       "      <td>Polo shirts</td>\n",
       "      <td>Online</td>\n",
       "      <td>2.0</td>\n",
       "      <td>24.50</td>\n",
       "      <td>28.50</td>\n",
       "      <td>Youth</td>\n",
       "      <td>49.00</td>\n",
       "      <td>57.00</td>\n",
       "      <td>8.00</td>\n",
       "      <td>Profit</td>\n",
       "    </tr>\n",
       "    <tr>\n",
       "      <th>2</th>\n",
       "      <td>27-Feb-16</td>\n",
       "      <td>High</td>\n",
       "      <td>Segun</td>\n",
       "      <td>29</td>\n",
       "      <td>F</td>\n",
       "      <td>Abia</td>\n",
       "      <td>Accessories</td>\n",
       "      <td>Keyboard</td>\n",
       "      <td>Online</td>\n",
       "      <td>3.0</td>\n",
       "      <td>3.67</td>\n",
       "      <td>5.00</td>\n",
       "      <td>Youth</td>\n",
       "      <td>11.01</td>\n",
       "      <td>15.00</td>\n",
       "      <td>3.99</td>\n",
       "      <td>Profit</td>\n",
       "    </tr>\n",
       "    <tr>\n",
       "      <th>3</th>\n",
       "      <td>12-Mar-16</td>\n",
       "      <td>High</td>\n",
       "      <td>Segun</td>\n",
       "      <td>29</td>\n",
       "      <td>F</td>\n",
       "      <td>Abia</td>\n",
       "      <td>Accessories</td>\n",
       "      <td>Keyboard</td>\n",
       "      <td>Online</td>\n",
       "      <td>2.0</td>\n",
       "      <td>87.50</td>\n",
       "      <td>116.50</td>\n",
       "      <td>Youth</td>\n",
       "      <td>175.00</td>\n",
       "      <td>233.00</td>\n",
       "      <td>58.00</td>\n",
       "      <td>Profit</td>\n",
       "    </tr>\n",
       "    <tr>\n",
       "      <th>4</th>\n",
       "      <td>12-Mar-16</td>\n",
       "      <td>High</td>\n",
       "      <td>Segun</td>\n",
       "      <td>29</td>\n",
       "      <td>F</td>\n",
       "      <td>Abia</td>\n",
       "      <td>Accessories</td>\n",
       "      <td>Keyboard</td>\n",
       "      <td>Online</td>\n",
       "      <td>3.0</td>\n",
       "      <td>35.00</td>\n",
       "      <td>41.67</td>\n",
       "      <td>Youth</td>\n",
       "      <td>105.00</td>\n",
       "      <td>125.01</td>\n",
       "      <td>20.01</td>\n",
       "      <td>Profit</td>\n",
       "    </tr>\n",
       "  </tbody>\n",
       "</table>\n",
       "</div>"
      ],
      "text/plain": [
       "        Date Customer Sales Person  Customer_Age Customer_Gender State  \\\n",
       "0  19-Feb-16     High        Segun            29               F  Abia   \n",
       "1  20-Feb-16     High        Segun            29               F  Abia   \n",
       "2  27-Feb-16     High        Segun            29               F  Abia   \n",
       "3  12-Mar-16     High        Segun            29               F  Abia   \n",
       "4  12-Mar-16     High        Segun            29               F  Abia   \n",
       "\n",
       "  Product_Category Sub_Category Payment Option  Quantity  Unit_Cost  \\\n",
       "0      Accessories     Keyboard         Online       1.0      80.00   \n",
       "1         Clothing  Polo shirts         Online       2.0      24.50   \n",
       "2      Accessories     Keyboard         Online       3.0       3.67   \n",
       "3      Accessories     Keyboard         Online       2.0      87.50   \n",
       "4      Accessories     Keyboard         Online       3.0      35.00   \n",
       "\n",
       "   Unit_Price Age_Bracket  total_cost  total_revenue  profit_loss p/l Category  \n",
       "0      109.00       Youth       80.00         109.00        29.00       Profit  \n",
       "1       28.50       Youth       49.00          57.00         8.00       Profit  \n",
       "2        5.00       Youth       11.01          15.00         3.99       Profit  \n",
       "3      116.50       Youth      175.00         233.00        58.00       Profit  \n",
       "4       41.67       Youth      105.00         125.01        20.01       Profit  "
      ]
     },
     "execution_count": 11,
     "metadata": {},
     "output_type": "execute_result"
    }
   ],
   "source": [
    "df[\"p/l Category\"] = df[\"profit_loss\"].apply(profit_loss)\n",
    "df.head()"
   ]
  },
  {
   "cell_type": "code",
   "execution_count": 12,
   "id": "36b6cb6e",
   "metadata": {},
   "outputs": [
    {
     "data": {
      "text/plain": [
       "<seaborn.axisgrid.FacetGrid at 0x1b8d7bce3a0>"
      ]
     },
     "execution_count": 12,
     "metadata": {},
     "output_type": "execute_result"
    },
    {
     "data": {
      "image/png": "[encoded data removed]",
      "text/plain": [
       "<Figure size 360x360 with 1 Axes>"
      ]
     },
     "metadata": {
      "needs_background": "light"
     },
     "output_type": "display_data"
    }
   ],
   "source": [
    "# Use a pie chart to visualize customer. What customer is the highest?\n",
    "sns.catplot(x = \"Customer\", kind=\"count\", data = df)"
   ]
  },
  {
   "cell_type": "markdown",
   "id": "b04e08c8",
   "metadata": {},
   "source": [
    "You will observe there is an error HIGN instead of HIGH"
   ]
  },
  {
   "cell_type": "code",
   "execution_count": 13,
   "id": "d144738b",
   "metadata": {},
   "outputs": [
    {
     "data": {
      "text/html": [
       "<div>\n",
       "<style scoped>\n",
       "    .dataframe tbody tr th:only-of-type {\n",
       "        vertical-align: middle;\n",
       "    }\n",
       "\n",
       "    .dataframe tbody tr th {\n",
       "        vertical-align: top;\n",
       "    }\n",
       "\n",
       "    .dataframe thead th {\n",
       "        text-align: right;\n",
       "    }\n",
       "</style>\n",
       "<table border=\"1\" class=\"dataframe\">\n",
       "  <thead>\n",
       "    <tr style=\"text-align: right;\">\n",
       "      <th></th>\n",
       "      <th>Date</th>\n",
       "      <th>Customer</th>\n",
       "      <th>Sales Person</th>\n",
       "      <th>Customer_Age</th>\n",
       "      <th>Customer_Gender</th>\n",
       "      <th>State</th>\n",
       "      <th>Product_Category</th>\n",
       "      <th>Sub_Category</th>\n",
       "      <th>Payment Option</th>\n",
       "      <th>Quantity</th>\n",
       "      <th>Unit_Cost</th>\n",
       "      <th>Unit_Price</th>\n",
       "      <th>Age_Bracket</th>\n",
       "      <th>total_cost</th>\n",
       "      <th>total_revenue</th>\n",
       "      <th>profit_loss</th>\n",
       "      <th>p/l Category</th>\n",
       "    </tr>\n",
       "  </thead>\n",
       "  <tbody>\n",
       "    <tr>\n",
       "      <th>0</th>\n",
       "      <td>19-Feb-16</td>\n",
       "      <td>High</td>\n",
       "      <td>Segun</td>\n",
       "      <td>29</td>\n",
       "      <td>F</td>\n",
       "      <td>Abia</td>\n",
       "      <td>Accessories</td>\n",
       "      <td>Keyboard</td>\n",
       "      <td>Online</td>\n",
       "      <td>1.0</td>\n",
       "      <td>80.00</td>\n",
       "      <td>109.00</td>\n",
       "      <td>Youth</td>\n",
       "      <td>80.00</td>\n",
       "      <td>109.00</td>\n",
       "      <td>29.00</td>\n",
       "      <td>Profit</td>\n",
       "    </tr>\n",
       "    <tr>\n",
       "      <th>1</th>\n",
       "      <td>20-Feb-16</td>\n",
       "      <td>High</td>\n",
       "      <td>Segun</td>\n",
       "      <td>29</td>\n",
       "      <td>F</td>\n",
       "      <td>Abia</td>\n",
       "      <td>Clothing</td>\n",
       "      <td>Polo shirts</td>\n",
       "      <td>Online</td>\n",
       "      <td>2.0</td>\n",
       "      <td>24.50</td>\n",
       "      <td>28.50</td>\n",
       "      <td>Youth</td>\n",
       "      <td>49.00</td>\n",
       "      <td>57.00</td>\n",
       "      <td>8.00</td>\n",
       "      <td>Profit</td>\n",
       "    </tr>\n",
       "    <tr>\n",
       "      <th>2</th>\n",
       "      <td>27-Feb-16</td>\n",
       "      <td>High</td>\n",
       "      <td>Segun</td>\n",
       "      <td>29</td>\n",
       "      <td>F</td>\n",
       "      <td>Abia</td>\n",
       "      <td>Accessories</td>\n",
       "      <td>Keyboard</td>\n",
       "      <td>Online</td>\n",
       "      <td>3.0</td>\n",
       "      <td>3.67</td>\n",
       "      <td>5.00</td>\n",
       "      <td>Youth</td>\n",
       "      <td>11.01</td>\n",
       "      <td>15.00</td>\n",
       "      <td>3.99</td>\n",
       "      <td>Profit</td>\n",
       "    </tr>\n",
       "    <tr>\n",
       "      <th>3</th>\n",
       "      <td>12-Mar-16</td>\n",
       "      <td>High</td>\n",
       "      <td>Segun</td>\n",
       "      <td>29</td>\n",
       "      <td>F</td>\n",
       "      <td>Abia</td>\n",
       "      <td>Accessories</td>\n",
       "      <td>Keyboard</td>\n",
       "      <td>Online</td>\n",
       "      <td>2.0</td>\n",
       "      <td>87.50</td>\n",
       "      <td>116.50</td>\n",
       "      <td>Youth</td>\n",
       "      <td>175.00</td>\n",
       "      <td>233.00</td>\n",
       "      <td>58.00</td>\n",
       "      <td>Profit</td>\n",
       "    </tr>\n",
       "    <tr>\n",
       "      <th>4</th>\n",
       "      <td>12-Mar-16</td>\n",
       "      <td>High</td>\n",
       "      <td>Segun</td>\n",
       "      <td>29</td>\n",
       "      <td>F</td>\n",
       "      <td>Abia</td>\n",
       "      <td>Accessories</td>\n",
       "      <td>Keyboard</td>\n",
       "      <td>Online</td>\n",
       "      <td>3.0</td>\n",
       "      <td>35.00</td>\n",
       "      <td>41.67</td>\n",
       "      <td>Youth</td>\n",
       "      <td>105.00</td>\n",
       "      <td>125.01</td>\n",
       "      <td>20.01</td>\n",
       "      <td>Profit</td>\n",
       "    </tr>\n",
       "  </tbody>\n",
       "</table>\n",
       "</div>"
      ],
      "text/plain": [
       "        Date Customer Sales Person  Customer_Age Customer_Gender State  \\\n",
       "0  19-Feb-16     High        Segun            29               F  Abia   \n",
       "1  20-Feb-16     High        Segun            29               F  Abia   \n",
       "2  27-Feb-16     High        Segun            29               F  Abia   \n",
       "3  12-Mar-16     High        Segun            29               F  Abia   \n",
       "4  12-Mar-16     High        Segun            29               F  Abia   \n",
       "\n",
       "  Product_Category Sub_Category Payment Option  Quantity  Unit_Cost  \\\n",
       "0      Accessories     Keyboard         Online       1.0      80.00   \n",
       "1         Clothing  Polo shirts         Online       2.0      24.50   \n",
       "2      Accessories     Keyboard         Online       3.0       3.67   \n",
       "3      Accessories     Keyboard         Online       2.0      87.50   \n",
       "4      Accessories     Keyboard         Online       3.0      35.00   \n",
       "\n",
       "   Unit_Price Age_Bracket  total_cost  total_revenue  profit_loss p/l Category  \n",
       "0      109.00       Youth       80.00         109.00        29.00       Profit  \n",
       "1       28.50       Youth       49.00          57.00         8.00       Profit  \n",
       "2        5.00       Youth       11.01          15.00         3.99       Profit  \n",
       "3      116.50       Youth      175.00         233.00        58.00       Profit  \n",
       "4       41.67       Youth      105.00         125.01        20.01       Profit  "
      ]
     },
     "execution_count": 13,
     "metadata": {},
     "output_type": "execute_result"
    }
   ],
   "source": [
    "# Creating a function that corrects the error\n",
    "\n",
    "def high(x):\n",
    "    if x == \"Hign\":\n",
    "        return \"High\"\n",
    "    else:\n",
    "        return x\n",
    "    \n",
    "df[\"Customer\"] = df[\"Customer\"].apply(high)\n",
    "df.head()"
   ]
  },
  {
   "cell_type": "code",
   "execution_count": 14,
   "id": "2db83461",
   "metadata": {},
   "outputs": [
    {
     "data": {
      "text/plain": [
       "Customer\n",
       "High       8899\n",
       "Low       13041\n",
       "Medium    12926\n",
       "Name: Customer, dtype: int64"
      ]
     },
     "execution_count": 14,
     "metadata": {},
     "output_type": "execute_result"
    }
   ],
   "source": [
    "#groupby the data by delivery type\n",
    "data = df.groupby(\"Customer\")[\"Customer\"].count()\n",
    "data"
   ]
  },
  {
   "cell_type": "code",
   "execution_count": 15,
   "id": "47e3b3e5",
   "metadata": {},
   "outputs": [
    {
     "data": {
      "text/plain": [
       "<AxesSubplot:ylabel='Customer'>"
      ]
     },
     "execution_count": 15,
     "metadata": {},
     "output_type": "execute_result"
    },
    {
     "data": {
      "image/png": "[encoded data removed]",
      "text/plain": [
       "<Figure size 432x288 with 1 Axes>"
      ]
     },
     "metadata": {},
     "output_type": "display_data"
    }
   ],
   "source": [
    "data.plot.pie(autopct=\"%.1f%%\")"
   ]
  },
  {
   "cell_type": "code",
   "execution_count": 16,
   "id": "73c6fde9",
   "metadata": {},
   "outputs": [
    {
     "data": {
      "text/plain": [
       "<seaborn.axisgrid.FacetGrid at 0x1b8d7d060a0>"
      ]
     },
     "execution_count": 16,
     "metadata": {},
     "output_type": "execute_result"
    },
    {
     "data": {
      "image/png": "[encoded data removed]",
      "text/plain": [
       "<Figure size 360x360 with 1 Axes>"
      ]
     },
     "metadata": {
      "needs_background": "light"
     },
     "output_type": "display_data"
    }
   ],
   "source": [
    "# Use the bar chart to visualize Salesperson. Which salesperson is highest?\n",
    "sns.catplot(x = \"Sales Person\", kind=\"count\", data = df)"
   ]
  },
  {
   "cell_type": "code",
   "execution_count": 17,
   "id": "c25d878f",
   "metadata": {},
   "outputs": [
    {
     "data": {
      "text/plain": [
       "<seaborn.axisgrid.FacetGrid at 0x1b8d7d0f6a0>"
      ]
     },
     "execution_count": 17,
     "metadata": {},
     "output_type": "execute_result"
    },
    {
     "data": {
      "image/png": "[encoded data removed]",
      "text/plain": [
       "<Figure size 360x360 with 1 Axes>"
      ]
     },
     "metadata": {
      "needs_background": "light"
     },
     "output_type": "display_data"
    }
   ],
   "source": [
    "# Use the column chart to visualize customer age bracket. Which category is the highest?\n",
    "sns.catplot(x = \"Age_Bracket\", kind=\"count\", data = df)"
   ]
  },
  {
   "cell_type": "code",
   "execution_count": 18,
   "id": "524f6477",
   "metadata": {},
   "outputs": [
    {
     "data": {
      "text/plain": [
       "<seaborn.axisgrid.FacetGrid at 0x1b8d95e6b50>"
      ]
     },
     "execution_count": 18,
     "metadata": {},
     "output_type": "execute_result"
    },
    {
     "data": {
      "text/plain": [
       "<Figure size 1800x1800 with 0 Axes>"
      ]
     },
     "metadata": {},
     "output_type": "display_data"
    },
    {
     "data": {
      "image/png": "[encoded data removed]",
      "text/plain": [
       "<Figure size 360x360 with 1 Axes>"
      ]
     },
     "metadata": {
      "needs_background": "light"
     },
     "output_type": "display_data"
    }
   ],
   "source": [
    "# Use the bar chart to visualize State. Which State is the highest?\n",
    "plt.figure(figsize = (25,25))\n",
    "sns.catplot(x = \"State\", kind=\"count\", data = df)"
   ]
  },
  {
   "cell_type": "code",
   "execution_count": 19,
   "id": "8a01b881",
   "metadata": {},
   "outputs": [
    {
     "data": {
      "image/png": "[encoded data removed]",
      "text/plain": [
       "<Figure size 432x288 with 1 Axes>"
      ]
     },
     "metadata": {
      "needs_background": "light"
     },
     "output_type": "display_data"
    }
   ],
   "source": [
    "# Top 10 State\n",
    "state = df[\"State\"].value_counts().head(10).plot(kind='barh')"
   ]
  },
  {
   "cell_type": "code",
   "execution_count": 20,
   "id": "254bf2e3",
   "metadata": {},
   "outputs": [
    {
     "data": {
      "text/plain": [
       "Product_Category\n",
       "Accessories    22534\n",
       "Clothing        5239\n",
       "Phones          7093\n",
       "Name: Product_Category, dtype: int64"
      ]
     },
     "execution_count": 20,
     "metadata": {},
     "output_type": "execute_result"
    }
   ],
   "source": [
    "# Use the pie chart to visualize product. Which product is the highest?\n",
    "product = df.groupby(\"Product_Category\")[\"Product_Category\"].count()\n",
    "product"
   ]
  },
  {
   "cell_type": "code",
   "execution_count": 21,
   "id": "cbf0b789",
   "metadata": {},
   "outputs": [
    {
     "data": {
      "text/plain": [
       "<AxesSubplot:ylabel='Product_Category'>"
      ]
     },
     "execution_count": 21,
     "metadata": {},
     "output_type": "execute_result"
    },
    {
     "data": {
      "image/png": "[encoded data removed]",
      "text/plain": [
       "<Figure size 432x288 with 1 Axes>"
      ]
     },
     "metadata": {},
     "output_type": "display_data"
    }
   ],
   "source": [
    "product.plot.pie(autopct=\"%.1f%%\")"
   ]
  },
  {
   "cell_type": "code",
   "execution_count": 22,
   "id": "7fa05933",
   "metadata": {},
   "outputs": [
    {
     "data": {
      "text/plain": [
       "<AxesSubplot:>"
      ]
     },
     "execution_count": 22,
     "metadata": {},
     "output_type": "execute_result"
    },
    {
     "data": {
      "image/png": "[encoded data removed]",
      "text/plain": [
       "<Figure size 432x288 with 1 Axes>"
      ]
     },
     "metadata": {
      "needs_background": "light"
     },
     "output_type": "display_data"
    }
   ],
   "source": [
    "# Use the bar chart to visualize Sub_category. Which Sub_category is the highest?\n",
    "df[\"Sub_Category\"].value_counts().head(10).plot(kind='barh')"
   ]
  },
  {
   "cell_type": "code",
   "execution_count": 23,
   "id": "b7c415dc",
   "metadata": {},
   "outputs": [
    {
     "data": {
      "text/plain": [
       "<AxesSubplot:ylabel='p/l Category'>"
      ]
     },
     "execution_count": 23,
     "metadata": {},
     "output_type": "execute_result"
    },
    {
     "data": {
      "image/png": "[encoded data removed]",
      "text/plain": [
       "<Figure size 432x288 with 1 Axes>"
      ]
     },
     "metadata": {},
     "output_type": "display_data"
    }
   ],
   "source": [
    "# Use the column chart to visualize profit/Loss. Which is the highest?\n",
    "p_l = df.groupby(\"p/l Category\")[\"p/l Category\"].count()\n",
    "p_l.plot.pie(autopct=\"%.1f%%\")"
   ]
  },
  {
   "cell_type": "markdown",
   "id": "4c43d45d",
   "metadata": {},
   "source": [
    "## Data Analytics"
   ]
  },
  {
   "cell_type": "code",
   "execution_count": 24,
   "id": "21da54ec",
   "metadata": {},
   "outputs": [
    {
     "data": {
      "text/plain": [
       "<AxesSubplot:xlabel='Sales Person'>"
      ]
     },
     "execution_count": 24,
     "metadata": {},
     "output_type": "execute_result"
    },
    {
     "data": {
      "image/png": "[encoded data removed]",
      "text/plain": [
       "<Figure size 432x288 with 1 Axes>"
      ]
     },
     "metadata": {
      "needs_background": "light"
     },
     "output_type": "display_data"
    }
   ],
   "source": [
    "# Which Salesperson generated the most profit?\n",
    "sp = df.groupby(\"Sales Person\")[\"profit_loss\"].sum().plot(kind='bar')\n",
    "sp"
   ]
  },
  {
   "cell_type": "code",
   "execution_count": 31,
   "id": "ba1a04c1",
   "metadata": {},
   "outputs": [
    {
     "data": {
      "text/plain": [
       "<AxesSubplot:ylabel='profit_loss'>"
      ]
     },
     "execution_count": 31,
     "metadata": {},
     "output_type": "execute_result"
    },
    {
     "data": {
      "image/png": "[encoded data removed]",
      "text/plain": [
       "<Figure size 432x288 with 1 Axes>"
      ]
     },
     "metadata": {},
     "output_type": "display_data"
    }
   ],
   "source": [
    "# Which gender generates the most profit?\n",
    "gen = df.groupby(\"Customer_Gender\")[\"profit_loss\"].sum().plot(kind='pie', autopct=\"%.1f%%\")\n",
    "gen"
   ]
  },
  {
   "cell_type": "code",
   "execution_count": 26,
   "id": "4a519e82",
   "metadata": {},
   "outputs": [
    {
     "data": {
      "text/plain": [
       "<AxesSubplot:xlabel='State'>"
      ]
     },
     "execution_count": 26,
     "metadata": {},
     "output_type": "execute_result"
    },
    {
     "data": {
      "image/png": "[encoded data removed]",
      "text/plain": [
       "<Figure size 720x360 with 1 Axes>"
      ]
     },
     "metadata": {
      "needs_background": "light"
     },
     "output_type": "display_data"
    }
   ],
   "source": [
    "# Which State generates the most profit\n",
    "plt.figure(figsize = (10,5))\n",
    "df.groupby(\"State\")[\"profit_loss\"].sum().plot(kind='bar')"
   ]
  },
  {
   "cell_type": "code",
   "execution_count": 30,
   "id": "22b52ca6",
   "metadata": {},
   "outputs": [
    {
     "data": {
      "text/plain": [
       "<AxesSubplot:ylabel='profit_loss'>"
      ]
     },
     "execution_count": 30,
     "metadata": {},
     "output_type": "execute_result"
    },
    {
     "data": {
      "image/png": "[encoded data removed]",
      "text/plain": [
       "<Figure size 432x288 with 1 Axes>"
      ]
     },
     "metadata": {},
     "output_type": "display_data"
    }
   ],
   "source": [
    "# What product generates the most profit?\n",
    "df.groupby(\"Product_Category\")[\"profit_loss\"].sum().plot(kind='pie', autopct=\"%.1f%%\")"
   ]
  },
  {
   "cell_type": "code",
   "execution_count": 29,
   "id": "9d9aa5b3",
   "metadata": {},
   "outputs": [
    {
     "data": {
      "text/plain": [
       "<AxesSubplot:ylabel='profit_loss'>"
      ]
     },
     "execution_count": 29,
     "metadata": {},
     "output_type": "execute_result"
    },
    {
     "data": {
      "image/png": "[encoded data removed]",
      "text/plain": [
       "<Figure size 432x288 with 1 Axes>"
      ]
     },
     "metadata": {},
     "output_type": "display_data"
    }
   ],
   "source": [
    "# What payment option generates the most profit?\n",
    "df.groupby(\"Payment Option\")[\"profit_loss\"].sum().plot(kind='pie', autopct=\"%.1f%%\")"
   ]
  },
  {
   "cell_type": "code",
   "execution_count": null,
   "id": "1e72bc9a",
   "metadata": {},
   "outputs": [],
   "source": []
  }
 ],
 "metadata": {
  "kernelspec": {
   "display_name": "Python 3",
   "language": "python",
   "name": "python3"
  },
  "language_info": {
   "codemirror_mode": {
    "name": "ipython",
    "version": 3
   },
   "file_extension": ".py",
   "mimetype": "text/x-python",
   "name": "python",
   "nbconvert_exporter": "python",
   "pygments_lexer": "ipython3",
   "version": "3.8.8"
  }
 },
 "nbformat": 4,
 "nbformat_minor": 5
}
